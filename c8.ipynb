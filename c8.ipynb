{
 "cells": [
  {
   "cell_type": "markdown",
   "metadata": {},
   "source": [
    "### Clase 8: Comprensión de Listas en GTA V"
   ]
  },
  {
   "cell_type": "markdown",
   "metadata": {},
   "source": [
    "#### Ejemplo 1: Misiones Completadas\n",
    ">Supongamos que tenemos una lista con el estado de las misiones de Michael (si están completadas o no). Usaremos comprensión de listas para obtener solo las misiones que ya se han completado."
   ]
  },
  {
   "cell_type": "code",
   "execution_count": 1,
   "metadata": {},
   "outputs": [
    {
     "name": "stdout",
     "output_type": "stream",
     "text": [
      "Misiones completadas por Michael: ['Robo de joyería', 'Infiltración en base militar']\n"
     ]
    }
   ],
   "source": [
    "# Lista de misiones con su estado (True si está completada, False si no)\n",
    "misiones_michael = [(\"Robo de joyería\", True), (\"Rescate de rehenes\", False), (\"Infiltración en base militar\", True), (\"Carrera callejera\", False)]\n",
    "\n",
    "# Lista de misiones completadas usando comprensión de listas\n",
    "misiones_completadas = [mision[0] for mision in misiones_michael if mision[1]]\n",
    "print(\"Misiones completadas por Michael:\", misiones_completadas)\n"
   ]
  },
  {
   "cell_type": "markdown",
   "metadata": {},
   "source": [
    "#### Ejemplo 2: Aumentar el Nivel de Recompensa\n",
    ">Imaginemos que cada personaje tiene una recompensa inicial por misión, y queremos calcular una lista con la recompensa aumentada en un 50%."
   ]
  },
  {
   "cell_type": "code",
   "execution_count": 2,
   "metadata": {},
   "outputs": [
    {
     "name": "stdout",
     "output_type": "stream",
     "text": [
      "Recompensas aumentadas por misión: [7500.0, 22500.0, 15000.0, 12000.0]\n"
     ]
    }
   ],
   "source": [
    "# Recompensas iniciales por misión en dólares\n",
    "recompensas_iniciales = [5000, 15000, 10000, 8000]\n",
    "\n",
    "# Recompensas aumentadas en un 50% usando comprensión de listas\n",
    "recompensas_aumentadas = [recompensa * 1.5 for recompensa in recompensas_iniciales]\n",
    "print(\"Recompensas aumentadas por misión:\", recompensas_aumentadas)\n"
   ]
  },
  {
   "cell_type": "markdown",
   "metadata": {},
   "source": [
    "#### Ejemplo 3: Filtrar Vehículos Disponibles\n",
    ">Supongamos que Franklin tiene acceso a una lista de vehículos, y queremos obtener solo aquellos que tengan un modelo deportivo."
   ]
  },
  {
   "cell_type": "code",
   "execution_count": 3,
   "metadata": {},
   "outputs": [
    {
     "name": "stdout",
     "output_type": "stream",
     "text": [
      "Vehículos deportivos disponibles para Franklin: ['Buffalo S', 'Infernus']\n"
     ]
    }
   ],
   "source": [
    "# Lista de vehículos y su tipo\n",
    "vehiculos_franklin = [(\"Buffalo S\", \"deportivo\"), (\"Sultan\", \"sedán\"), (\"Infernus\", \"deportivo\"), (\"Blista\", \"compacto\")]\n",
    "\n",
    "# Filtrar solo los vehículos deportivos\n",
    "vehiculos_deportivos = [vehiculo[0] for vehiculo in vehiculos_franklin if vehiculo[1] == \"deportivo\"]\n",
    "print(\"Vehículos deportivos disponibles para Franklin:\", vehiculos_deportivos)\n"
   ]
  },
  {
   "cell_type": "markdown",
   "metadata": {},
   "source": [
    "#### Ejemplo 4: Nombres de Personajes en Minúsculas\n",
    ">Queremos obtener una lista de nombres de personajes en minúsculas para facilitar la búsqueda de coincidencias.\n",
    "\n"
   ]
  },
  {
   "cell_type": "code",
   "execution_count": 4,
   "metadata": {},
   "outputs": [
    {
     "name": "stdout",
     "output_type": "stream",
     "text": [
      "Nombres de personajes en minúsculas: ['franklin', 'michael', 'trevor', 'lamar']\n"
     ]
    }
   ],
   "source": [
    "# Lista de nombres de personajes\n",
    "personajes = [\"FRANKLIN\", \"MICHAEL\", \"TREVOR\", \"LAMAR\"]\n",
    "\n",
    "# Convertir los nombres a minúsculas\n",
    "personajes_minuscula = [nombre.lower() for nombre in personajes]\n",
    "print(\"Nombres de personajes en minúsculas:\", personajes_minuscula)\n"
   ]
  }
 ],
 "metadata": {
  "kernelspec": {
   "display_name": "Python 3",
   "language": "python",
   "name": "python3"
  },
  "language_info": {
   "codemirror_mode": {
    "name": "ipython",
    "version": 3
   },
   "file_extension": ".py",
   "mimetype": "text/x-python",
   "name": "python",
   "nbconvert_exporter": "python",
   "pygments_lexer": "ipython3",
   "version": "3.12.6"
  }
 },
 "nbformat": 4,
 "nbformat_minor": 2
}
