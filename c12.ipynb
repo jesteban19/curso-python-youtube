{
 "cells": [
  {
   "cell_type": "markdown",
   "metadata": {},
   "source": [
    "### Clase 12: Documentación y Funciones Lambda"
   ]
  },
  {
   "cell_type": "markdown",
   "metadata": {},
   "source": [
    "#### Ejemplo 1: Documentación de Funciones\n",
    ">La documentación de funciones es importante para que otros (o tú mismo en el futuro) entiendan qué hace la función. Usamos cadenas de documentación (docstrings) para describir su propósito."
   ]
  },
  {
   "cell_type": "code",
   "execution_count": 1,
   "metadata": {},
   "outputs": [
    {
     "name": "stdout",
     "output_type": "stream",
     "text": [
      "Dinero restante: $12000.00\n"
     ]
    }
   ],
   "source": [
    "def calcular_dinero(ganancias, gastos):\n",
    "    \"\"\"\n",
    "    Calcula la cantidad de dinero que queda después de restar los gastos de las ganancias.\n",
    "\n",
    "    Parámetros:\n",
    "    ganancias (float): Cantidad total de dinero ganado.\n",
    "    gastos (float): Cantidad total de dinero gastado.\n",
    "\n",
    "    Retorna:\n",
    "    float: Dinero restante después de los gastos.\n",
    "    \"\"\"\n",
    "    return ganancias - gastos\n",
    "\n",
    "# Llamando a la función\n",
    "ganancias = 15000  # dinero ganado en misiones\n",
    "gastos = 3000      # gastos en el juego\n",
    "dinero_restante = calcular_dinero(ganancias, gastos)\n",
    "print(f\"Dinero restante: ${dinero_restante:.2f}\")\n"
   ]
  },
  {
   "cell_type": "markdown",
   "metadata": {},
   "source": [
    "#### Ejemplo 2: Uso de Funciones Lambda\n",
    ">Las funciones ``lambda`` son funciones anónimas y se utilizan cuando necesitas una función simple y corta. Son útiles en situaciones donde no quieres definir una función completa con ``def``."
   ]
  },
  {
   "cell_type": "code",
   "execution_count": 2,
   "metadata": {},
   "outputs": [
    {
     "name": "stdout",
     "output_type": "stream",
     "text": [
      "Total a pagar: $600.00\n"
     ]
    }
   ],
   "source": [
    "# Función lambda para calcular el total de un carro de compras en GTA V\n",
    "calcular_total = lambda precio, cantidad: precio * cantidad\n",
    "\n",
    "# Llamando a la función lambda\n",
    "precio_item = 200  # precio de un ítem\n",
    "cantidad_item = 3   # cantidad de ítems\n",
    "total = calcular_total(precio_item, cantidad_item)\n",
    "print(f\"Total a pagar: ${total:.2f}\")\n"
   ]
  },
  {
   "cell_type": "markdown",
   "metadata": {},
   "source": [
    "#### Ejemplo 3: Función Lambda con Filtrado\n",
    ">Podemos usar funciones ``lambda`` junto con la función ``filter`` para filtrar datos. Por ejemplo, supongamos que queremos filtrar un conjunto de vehículos en GTA V que son deportivos."
   ]
  },
  {
   "cell_type": "code",
   "execution_count": 3,
   "metadata": {},
   "outputs": [
    {
     "name": "stdout",
     "output_type": "stream",
     "text": [
      "Vehículos deportivos en GTA V:\n",
      "Comet\n",
      "Zentorno\n"
     ]
    }
   ],
   "source": [
    "# Lista de vehículos en GTA V\n",
    "vehiculos = [\n",
    "    {\"nombre\": \"Comet\", \"tipo\": \"Deportivo\"},\n",
    "    {\"nombre\": \"Sultan\", \"tipo\": \"Sedán\"},\n",
    "    {\"nombre\": \"Zentorno\", \"tipo\": \"Deportivo\"},\n",
    "    {\"nombre\": \"Blista\", \"tipo\": \"Compacto\"}\n",
    "]\n",
    "\n",
    "# Filtrando los vehículos deportivos\n",
    "vehiculos_deportivos = list(filter(lambda x: x[\"tipo\"] == \"Deportivo\", vehiculos))\n",
    "\n",
    "# Mostrando los vehículos deportivos\n",
    "print(\"Vehículos deportivos en GTA V:\")\n",
    "for vehiculo in vehiculos_deportivos:\n",
    "    print(vehiculo[\"nombre\"])\n"
   ]
  },
  {
   "cell_type": "markdown",
   "metadata": {},
   "source": [
    "#### Ejemplo 4: Ordenar Vehículos por Precio\n",
    ">Supongamos que tienes una lista de vehículos con sus precios y quieres ordenarlos usando una función ``lambda``."
   ]
  },
  {
   "cell_type": "code",
   "execution_count": 4,
   "metadata": {},
   "outputs": [
    {
     "name": "stdout",
     "output_type": "stream",
     "text": [
      "Vehículos ordenados por precio:\n",
      "Blista: $25000\n",
      "Sultan: $50000\n",
      "Comet: $100000\n",
      "Zentorno: $750000\n"
     ]
    }
   ],
   "source": [
    "# Lista de vehículos con precios\n",
    "vehiculos_precio = [\n",
    "    {\"nombre\": \"Comet\", \"precio\": 100000},\n",
    "    {\"nombre\": \"Sultan\", \"precio\": 50000},\n",
    "    {\"nombre\": \"Zentorno\", \"precio\": 750000},\n",
    "    {\"nombre\": \"Blista\", \"precio\": 25000}\n",
    "]\n",
    "\n",
    "# Ordenando los vehículos por precio\n",
    "vehiculos_ordenados = sorted(vehiculos_precio, key=lambda x: x[\"precio\"])\n",
    "\n",
    "# Mostrando los vehículos ordenados por precio\n",
    "print(\"Vehículos ordenados por precio:\")\n",
    "for vehiculo in vehiculos_ordenados:\n",
    "    print(f\"{vehiculo['nombre']}: ${vehiculo['precio']}\")\n"
   ]
  }
 ],
 "metadata": {
  "kernelspec": {
   "display_name": "Python 3",
   "language": "python",
   "name": "python3"
  },
  "language_info": {
   "codemirror_mode": {
    "name": "ipython",
    "version": 3
   },
   "file_extension": ".py",
   "mimetype": "text/x-python",
   "name": "python",
   "nbconvert_exporter": "python",
   "pygments_lexer": "ipython3",
   "version": "3.12.6"
  }
 },
 "nbformat": 4,
 "nbformat_minor": 2
}
