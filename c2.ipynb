{
 "cells": [
  {
   "cell_type": "markdown",
   "metadata": {},
   "source": [
    "#### Clase 2: Declaracion y tipos de variables en GTA V"
   ]
  },
  {
   "cell_type": "code",
   "execution_count": 2,
   "metadata": {},
   "outputs": [
    {
     "name": "stdout",
     "output_type": "stream",
     "text": [
      "Información del personaje:\n",
      "Nombre: Michael\n",
      "Edad: 40\n",
      "Vida: 100\n",
      "Munición: 50\n",
      "Dinero: 10000.5\n"
     ]
    }
   ],
   "source": [
    "nombre_personaje = \"Michael\"\n",
    "edad_personaje = 40\n",
    "vida = 100  # Vida al máximo\n",
    "municion = 50  # Número de balas\n",
    "dinero = 10000.50  # Dinero en la cuenta del personaje double, float\n",
    "print(\"Información del personaje:\")\n",
    "print(\"Nombre:\", nombre_personaje)\n",
    "print(\"Edad:\", edad_personaje)\n",
    "print(\"Vida:\", vida)\n",
    "print(\"Munición:\", municion)\n",
    "print(\"Dinero:\", dinero)"
   ]
  },
  {
   "cell_type": "code",
   "execution_count": 3,
   "metadata": {},
   "outputs": [
    {
     "name": "stdout",
     "output_type": "stream",
     "text": [
      "\n",
      "Estado del juego:\n",
      "¿Es de noche? True\n",
      "Enemigos cercanos: 3\n",
      "¿Misión en progreso? False\n"
     ]
    }
   ],
   "source": [
    "# Estado del juego\n",
    "es_noche = True  # Variable booleana que indica si es de noche\n",
    "enemigos_cercanos = 3  # Número de enemigos cercanos\n",
    "misión_en_progreso = False\n",
    "print(\"\\nEstado del juego:\")\n",
    "print(\"¿Es de noche?\", es_noche)\n",
    "print(\"Enemigos cercanos:\", enemigos_cercanos)\n",
    "print(\"¿Misión en progreso?\", misión_en_progreso)"
   ]
  }
 ],
 "metadata": {
  "kernelspec": {
   "display_name": "Python 3",
   "language": "python",
   "name": "python3"
  },
  "language_info": {
   "codemirror_mode": {
    "name": "ipython",
    "version": 3
   },
   "file_extension": ".py",
   "mimetype": "text/x-python",
   "name": "python",
   "nbconvert_exporter": "python",
   "pygments_lexer": "ipython3",
   "version": "3.12.6"
  }
 },
 "nbformat": 4,
 "nbformat_minor": 2
}
