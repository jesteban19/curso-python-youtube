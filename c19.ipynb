{
 "cells": [
  {
   "cell_type": "markdown",
   "metadata": {},
   "source": [
    "## Módulo 6: Proyectos finales"
   ]
  },
  {
   "cell_type": "markdown",
   "metadata": {},
   "source": [
    "### Clase 19: Inventario desde la terminal\n",
    "**Descripción:**\n",
    ">En esta clase, aplicaremos todo lo aprendido sobre programación orientada a objetos para crear un sistema de inventario simple que permita a un personaje de GTA V gestionar sus objetos. Este sistema permitirá agregar, eliminar y mostrar los objetos que tiene en su inventario.\n",
    "\n",
    "**Temas:**\n",
    " - Diseño de clases y objetos para un sistema de inventario.\n",
    " - Implementación de métodos para manipular el inventario.\n",
    " - Interacción con el usuario a través de la terminal."
   ]
  },
  {
   "cell_type": "markdown",
   "metadata": {},
   "source": [
    "#### Código: Sistema de Inventario\n",
    ">Vamos a crear una clase Inventario que permitirá a un jugador gestionar su inventario en el juego."
   ]
  },
  {
   "cell_type": "code",
   "execution_count": 2,
   "metadata": {},
   "outputs": [
    {
     "name": "stdout",
     "output_type": "stream",
     "text": [
      "\n",
      "Opciones:\n",
      "1. Agregar objeto\n",
      "2. Eliminar objeto\n",
      "3. Mostrar inventario\n",
      "4. Salir\n",
      "Opción no válida. Intenta de nuevo.\n",
      "\n",
      "Opciones:\n",
      "1. Agregar objeto\n",
      "2. Eliminar objeto\n",
      "3. Mostrar inventario\n",
      "4. Salir\n",
      "Saliendo del programa...\n"
     ]
    }
   ],
   "source": [
    "class Inventario:\n",
    "    def __init__(self):\n",
    "        self.__objetos = []  # Atributo privado para almacenar objetos\n",
    "\n",
    "    def agregar_objeto(self, objeto):\n",
    "        \"\"\"Agrega un objeto al inventario.\"\"\"\n",
    "        self.__objetos.append(objeto)\n",
    "        print(f\"{objeto} ha sido agregado al inventario.\")\n",
    "\n",
    "    def eliminar_objeto(self, objeto):\n",
    "        \"\"\"Elimina un objeto del inventario, si existe.\"\"\"\n",
    "        if objeto in self.__objetos:\n",
    "            self.__objetos.remove(objeto)\n",
    "            print(f\"{objeto} ha sido eliminado del inventario.\")\n",
    "        else:\n",
    "            print(f\"{objeto} no se encuentra en el inventario.\")\n",
    "\n",
    "    def mostrar_inventario(self):\n",
    "        \"\"\"Muestra todos los objetos en el inventario.\"\"\"\n",
    "        if not self.__objetos:\n",
    "            print(\"El inventario está vacío.\")\n",
    "        else:\n",
    "            print(\"Inventario actual:\")\n",
    "            for objeto in self.__objetos:\n",
    "                print(f\"- {objeto}\")\n",
    "\n",
    "# Ejemplo de uso\n",
    "inventario = Inventario()\n",
    "\n",
    "# Interacción con el usuario\n",
    "while True:\n",
    "    print(\"\\nOpciones:\")\n",
    "    print(\"1. Agregar objeto\")\n",
    "    print(\"2. Eliminar objeto\")\n",
    "    print(\"3. Mostrar inventario\")\n",
    "    print(\"4. Salir\")\n",
    "\n",
    "    opcion = input(\"Elige una opción (1-4): \")\n",
    "\n",
    "    if opcion == \"1\":\n",
    "        objeto = input(\"Introduce el nombre del objeto a agregar: \")\n",
    "        inventario.agregar_objeto(objeto)\n",
    "\n",
    "    elif opcion == \"2\":\n",
    "        objeto = input(\"Introduce el nombre del objeto a eliminar: \")\n",
    "        inventario.eliminar_objeto(objeto)\n",
    "\n",
    "    elif opcion == \"3\":\n",
    "        inventario.mostrar_inventario()\n",
    "\n",
    "    elif opcion == \"4\":\n",
    "        print(\"Saliendo del programa...\")\n",
    "        break\n",
    "\n",
    "    else:\n",
    "        print(\"Opción no válida. Intenta de nuevo.\")\n"
   ]
  }
 ],
 "metadata": {
  "kernelspec": {
   "display_name": "Python 3",
   "language": "python",
   "name": "python3"
  },
  "language_info": {
   "codemirror_mode": {
    "name": "ipython",
    "version": 3
   },
   "file_extension": ".py",
   "mimetype": "text/x-python",
   "name": "python",
   "nbconvert_exporter": "python",
   "pygments_lexer": "ipython3",
   "version": "3.12.6"
  }
 },
 "nbformat": 4,
 "nbformat_minor": 2
}
