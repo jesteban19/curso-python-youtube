{
 "cells": [
  {
   "cell_type": "markdown",
   "metadata": {},
   "source": [
    "## Modulo 2: Esctructuras de datos"
   ]
  },
  {
   "cell_type": "markdown",
   "metadata": {},
   "source": [
    "### Clase 5:  Listas y Tuplas en GTA V"
   ]
  },
  {
   "cell_type": "markdown",
   "metadata": {},
   "source": [
    "#### Listas\n",
    "> Se utiliza para almacenar el inventario de Franklin, permitiéndole agregar y quitar objetos fácilmente."
   ]
  },
  {
   "cell_type": "code",
   "execution_count": 1,
   "metadata": {},
   "outputs": [
    {
     "name": "stdout",
     "output_type": "stream",
     "text": [
      "Inventario inicial de Franklin: ['pistola', 'botiquín', 'llaves del coche', 'teléfono']\n",
      "\n",
      "Franklin ha encontrado un mapa. Inventario actualizado: ['pistola', 'botiquín', 'llaves del coche', 'teléfono', 'mapa']\n",
      "\n",
      "Franklin usó el botiquín. Inventario actualizado: ['pistola', 'llaves del coche', 'teléfono', 'mapa']\n",
      "\n",
      "Franklin está armado.\n"
     ]
    }
   ],
   "source": [
    "# Lista de objetos en el inventario de Franklin\n",
    "inventario = [\"pistola\", \"botiquín\", \"llaves del coche\", \"teléfono\"]\n",
    "\n",
    "# Mostrar el inventario inicial\n",
    "print(\"Inventario inicial de Franklin:\", inventario)\n",
    "\n",
    "# Agregar un nuevo objeto al inventario\n",
    "inventario.append(\"mapa\")\n",
    "print(\"\\nFranklin ha encontrado un mapa. Inventario actualizado:\", inventario)\n",
    "\n",
    "# Usar y quitar un objeto del inventario\n",
    "inventario.remove(\"botiquín\")\n",
    "print(\"\\nFranklin usó el botiquín. Inventario actualizado:\", inventario)\n",
    "\n",
    "# Revisar si un objeto está en el inventario\n",
    "if \"pistola\" in inventario: # True\n",
    "    print(\"\\nFranklin está armado.\")\n",
    "else:\n",
    "    print(\"\\nFranklin no tiene armas.\")"
   ]
  },
  {
   "cell_type": "markdown",
   "metadata": {},
   "source": [
    "### Tuplas\n",
    "> Se usa para definir puntos de interés en el mapa de Los Santos. Estos son elementos fijos, por lo que una tupla es adecuada."
   ]
  },
  {
   "cell_type": "code",
   "execution_count": 2,
   "metadata": {},
   "outputs": [
    {
     "name": "stdout",
     "output_type": "stream",
     "text": [
      "\n",
      "Puntos de interés en Los Santos:\n",
      "- Cine de Vinewood\n",
      "- Muelle Del Perro\n",
      "- Montaña Chiliad\n",
      "\n",
      "No se puede modificar la tupla. Los puntos de interés son datos fijos.\n"
     ]
    }
   ],
   "source": [
    "# Definición de puntos de interés como una tupla, ya que son datos fijos\n",
    "puntos_interes = (\"Cine de Vinewood\", \"Muelle Del Perro\", \"Montaña Chiliad\")\n",
    "\n",
    "# Mostrar puntos de interés\n",
    "print(\"\\nPuntos de interés en Los Santos:\")\n",
    "for punto in puntos_interes:\n",
    "    print(\"-\", punto)\n",
    "\n",
    "# Intentar cambiar un punto (esto generará un error)\n",
    "try:\n",
    "    puntos_interes[0] = \"Casino de Los Santos\"\n",
    "except TypeError:\n",
    "    print(\"\\nNo se puede modificar la tupla. Los puntos de interés son datos fijos.\")"
   ]
  }
 ],
 "metadata": {
  "kernelspec": {
   "display_name": "Python 3",
   "language": "python",
   "name": "python3"
  },
  "language_info": {
   "codemirror_mode": {
    "name": "ipython",
    "version": 3
   },
   "file_extension": ".py",
   "mimetype": "text/x-python",
   "name": "python",
   "nbconvert_exporter": "python",
   "pygments_lexer": "ipython3",
   "version": "3.12.6"
  }
 },
 "nbformat": 4,
 "nbformat_minor": 2
}
