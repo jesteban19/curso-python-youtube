{
 "cells": [
  {
   "cell_type": "markdown",
   "metadata": {},
   "source": [
    "## Módulo 4: Archivos y Manejo de Datos"
   ]
  },
  {
   "cell_type": "markdown",
   "metadata": {},
   "source": [
    "### Clase 13: Lectura y Escritura de Archivos"
   ]
  },
  {
   "cell_type": "markdown",
   "metadata": {},
   "source": [
    "#### Ejemplo 1: Escritura de Archivos\n",
    ">Primero, veremos cómo crear un archivo de texto y escribir en él. Imaginemos que quieres guardar tus estadísticas de dinero ganado en GTA V en un archivo."
   ]
  },
  {
   "cell_type": "code",
   "execution_count": 1,
   "metadata": {},
   "outputs": [
    {
     "name": "stdout",
     "output_type": "stream",
     "text": [
      "Estadísticas guardadas en 'estadisticas_gta.txt'.\n"
     ]
    }
   ],
   "source": [
    "# Datos de las estadísticas de dinero ganado en GTA V\n",
    "dinero_ganado = 20000  # dinero ganado en la última misión\n",
    "nombre_mision = \"Golpe al Banco\"\n",
    "\n",
    "# Abriendo un archivo en modo escritura\n",
    "with open(\"estadisticas_gta.txt\", \"w\") as archivo:\n",
    "    archivo.write(f\"Misión: {nombre_mision}\\n\")\n",
    "    archivo.write(f\"Dinero ganado: ${dinero_ganado}\\n\")\n",
    "\n",
    "print(\"Estadísticas guardadas en 'estadisticas_gta.txt'.\")\n"
   ]
  },
  {
   "cell_type": "markdown",
   "metadata": {},
   "source": [
    "#### Ejemplo 2: Lectura de Archivos\n",
    ">Ahora, vamos a leer el archivo que acabamos de crear y mostrar su contenido en la consola."
   ]
  },
  {
   "cell_type": "code",
   "execution_count": 4,
   "metadata": {},
   "outputs": [
    {
     "name": "stdout",
     "output_type": "stream",
     "text": [
      "Contenido del archivo:\n",
      "Misión: Golpe al Banco\n",
      "Dinero ganado: $20000\n",
      "Misión: Robo de Joyas\n",
      "Dinero ganado: $15000\n",
      "\n"
     ]
    }
   ],
   "source": [
    "# Leyendo el archivo que hemos creado \"read\"\n",
    "with open(\"estadisticas_gta.txt\", \"r\") as archivo:\n",
    "    contenido = archivo.read()\n",
    "\n",
    "print(\"Contenido del archivo:\")\n",
    "print(contenido)\n"
   ]
  },
  {
   "cell_type": "markdown",
   "metadata": {},
   "source": [
    "#### Ejemplo 3: Agregar Información a un Archivo\n",
    "Si deseas agregar más estadísticas a tu archivo sin sobrescribir lo que ya existe, puedes abrir el archivo en modo de adición (``a``)."
   ]
  },
  {
   "cell_type": "code",
   "execution_count": 3,
   "metadata": {},
   "outputs": [
    {
     "name": "stdout",
     "output_type": "stream",
     "text": [
      "Nuevas estadísticas agregadas a 'estadisticas_gta.txt'.\n"
     ]
    }
   ],
   "source": [
    "# Agregando más estadísticas\n",
    "dinero_extra_ganado = 15000\n",
    "nombre_nueva_mision = \"Robo de Joyas\"\n",
    "\n",
    "# write | read | append\n",
    "\n",
    "with open(\"estadisticas_gta.txt\", \"a\") as archivo:\n",
    "    archivo.write(f\"Misión: {nombre_nueva_mision}\\n\")\n",
    "    archivo.write(f\"Dinero ganado: ${dinero_extra_ganado}\\n\")\n",
    "\n",
    "print(\"Nuevas estadísticas agregadas a 'estadisticas_gta.txt'.\")\n"
   ]
  },
  {
   "cell_type": "markdown",
   "metadata": {},
   "source": [
    "#### Ejemplo 4: Leer Líneas Individuales\n",
    ">A veces, querrás leer el archivo línea por línea. Esto es útil si tienes muchas entradas y quieres procesarlas una a la vez."
   ]
  },
  {
   "cell_type": "code",
   "execution_count": 10,
   "metadata": {},
   "outputs": [
    {
     "name": "stdout",
     "output_type": "stream",
     "text": [
      "Leyendo el archivo línea por línea:\n",
      "1 Misión: Golpe al Banco\n",
      "2 Dinero ganado: $20000\n",
      "3 Misión: Robo de Joyas\n",
      "4 Dinero ganado: $15000\n"
     ]
    }
   ],
   "source": [
    "# Leyendo el archivo línea por línea\n",
    "print(\"Leyendo el archivo línea por línea:\")\n",
    "with open(\"estadisticas_gta.txt\", \"r\") as archivo:\n",
    "    for index,linea in enumerate(archivo):\n",
    "        print(index+1,linea.strip())  # .strip() elimina los espacios en blanco al inicio y al final\n"
   ]
  }
 ],
 "metadata": {
  "kernelspec": {
   "display_name": "Python 3",
   "language": "python",
   "name": "python3"
  },
  "language_info": {
   "codemirror_mode": {
    "name": "ipython",
    "version": 3
   },
   "file_extension": ".py",
   "mimetype": "text/x-python",
   "name": "python",
   "nbconvert_exporter": "python",
   "pygments_lexer": "ipython3",
   "version": "3.12.6"
  }
 },
 "nbformat": 4,
 "nbformat_minor": 2
}
