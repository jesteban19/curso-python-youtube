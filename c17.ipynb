{
 "cells": [
  {
   "cell_type": "markdown",
   "metadata": {},
   "source": [
    "### Clase 17: Herencia y Polimorfismo\n",
    "Temas:\n",
    " - Uso de herencia en clases.\n",
    " - Concepto de polimorfismo en programación orientada a objetos.\n",
    "\n",
    "**Herencia**\n",
    ">La herencia permite crear una nueva clase basada en una clase existente, reutilizando su comportamiento y atributos. La nueva clase (subclase) hereda los atributos y métodos de la clase base (superclase).\n",
    "\n",
    "**Polimorfismo**\n",
    ">El polimorfismo permite a las subclases redefinir métodos de la clase base, lo que permite que se comporten de manera diferente en función de la subclase que los implementa. Esto promueve la flexibilidad en el código."
   ]
  },
  {
   "cell_type": "markdown",
   "metadata": {},
   "source": [
    "#### Ejemplo: Creación de una Clase Base y Subclases para Vehículos en GTA V\n",
    ">Vamos a crear una clase base llamada ``Vehiculo`` y dos subclases: ``Coche`` y ``Motocicleta``. Cada subclase tendrá su propia implementación de un método ``acelerar``."
   ]
  },
  {
   "cell_type": "code",
   "execution_count": 1,
   "metadata": {},
   "outputs": [
    {
     "name": "stdout",
     "output_type": "stream",
     "text": [
      "Vehículo: Elegy RH8, Marca: Nissan, Velocidad máxima: 180 km/h, Velocidad actual: 0 km/h\n",
      "Puertas: 2\n",
      "Vehículo: Bati 801, Marca: Western, Velocidad máxima: 150 km/h, Velocidad actual: 0 km/h\n",
      "Elegy RH8 aceleró a 50 km/h.\n",
      "Bati 801 aceleró a 75.0 km/h.\n"
     ]
    }
   ],
   "source": [
    "class Vehiculo:\n",
    "    def __init__(self, nombre, marca, velocidad_maxima):\n",
    "        self.nombre = nombre\n",
    "        self.marca = marca\n",
    "        self.velocidad_maxima = velocidad_maxima\n",
    "        self.velocidad_actual = 0\n",
    "\n",
    "    def mostrar_info(self):\n",
    "        print(f\"Vehículo: {self.nombre}, Marca: {self.marca}, Velocidad máxima: {self.velocidad_maxima} km/h, Velocidad actual: {self.velocidad_actual} km/h\")\n",
    "\n",
    "    def acelerar(self, incremento):\n",
    "        if self.velocidad_actual + incremento > self.velocidad_maxima:\n",
    "            print(f\"No puedes acelerar más allá de {self.velocidad_maxima} km/h.\")\n",
    "        else:\n",
    "            self.velocidad_actual += incremento\n",
    "            print(f\"{self.nombre} aceleró a {self.velocidad_actual} km/h.\")\n",
    "\n",
    "class Coche(Vehiculo):\n",
    "    def __init__(self, nombre, marca, velocidad_maxima, puertas):\n",
    "        super().__init__(nombre, marca, velocidad_maxima)\n",
    "        self.puertas = puertas  # Atributo específico de Coche\n",
    "\n",
    "    def mostrar_info(self):\n",
    "        super().mostrar_info()\n",
    "        print(f\"Puertas: {self.puertas}\")\n",
    "\n",
    "class Motocicleta(Vehiculo):\n",
    "    def __init__(self, nombre, marca, velocidad_maxima):\n",
    "        super().__init__(nombre, marca, velocidad_maxima)\n",
    "\n",
    "    def acelerar(self, incremento):\n",
    "        incremento_real = incremento * 1.5  # Motocicletas aceleran más rápido\n",
    "        super().acelerar(incremento_real)\n",
    "\n",
    "# Creando objetos de las clases Coche y Motocicleta\n",
    "coche1 = Coche(\"Elegy RH8\", \"Nissan\", 180, 2)\n",
    "motocicleta1 = Motocicleta(\"Bati 801\", \"Western\", 150)\n",
    "\n",
    "# Mostrando la información de los vehículos\n",
    "coche1.mostrar_info()\n",
    "motocicleta1.mostrar_info()\n",
    "\n",
    "# Simulando aceleración\n",
    "coche1.acelerar(50)\n",
    "motocicleta1.acelerar(50)  # Este debería acelerar más rápido debido al incremento real\n"
   ]
  }
 ],
 "metadata": {
  "kernelspec": {
   "display_name": "Python 3",
   "language": "python",
   "name": "python3"
  },
  "language_info": {
   "codemirror_mode": {
    "name": "ipython",
    "version": 3
   },
   "file_extension": ".py",
   "mimetype": "text/x-python",
   "name": "python",
   "nbconvert_exporter": "python",
   "pygments_lexer": "ipython3",
   "version": "3.12.6"
  }
 },
 "nbformat": 4,
 "nbformat_minor": 2
}
