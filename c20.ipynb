{
 "cells": [
  {
   "cell_type": "markdown",
   "metadata": {},
   "source": [
    "### Clase 20: Consulta y extracción de información desde la web\n",
    "Descripción:\n",
    ">En esta clase, aprenderemos a utilizar Python para realizar consultas a páginas web y extraer información de ellas. Esto es útil en muchos contextos, como obtener datos de videojuegos, estadísticas y más. Usaremos la biblioteca requests para realizar solicitudes HTTP y BeautifulSoup para analizar el contenido HTML.\n",
    "\n",
    "Temas:\n",
    " - Introducción a la web scraping.\n",
    " - Uso de la biblioteca requests para hacer solicitudes HTTP.\n",
    " - Análisis de documentos HTML con BeautifulSoup.\n",
    " - Extracción de datos específicos de una página web."
   ]
  },
  {
   "cell_type": "markdown",
   "metadata": {},
   "source": [
    "#### Código: Extracción de Información desde un Sitio Web\n",
    ">Vamos a extraer información de una página web ficticia que muestra datos de GTA V. Suponemos que queremos obtener el nombre y el precio de los vehículos disponibles."
   ]
  },
  {
   "cell_type": "code",
   "execution_count": 51,
   "metadata": {},
   "outputs": [
    {
     "name": "stdout",
     "output_type": "stream",
     "text": [
      "Vehículo: Brioso 300 Widebody\n",
      "Vehículo: Weevil\n",
      "Vehículo: Brioso 300\n",
      "Vehículo: Club\n",
      "Vehículo: Blista Kanjo\n",
      "Vehículo: Asbo\n",
      "Vehículo: Issi (Arena)\n",
      "Vehículo: Issi Classic\n",
      "Vehículo: Brioso R/A\n",
      "Vehículo: Rhapsody\n",
      "Vehículo: Panto\n",
      "Vehículo: Prairie\n",
      "Vehículo: Issi\n",
      "Vehículo: Dilettante\n",
      "Vehículo: Blista\n"
     ]
    }
   ],
   "source": [
    "import requests\n",
    "from bs4 import BeautifulSoup\n",
    "\n",
    "# URL de la página web ficticia (sustituye esto con una URL real)\n",
    "url = \"https://www.gta5rides.com/vehicles/compacts.cfm\"\n",
    "\n",
    "# Realizamos una solicitud GET a la página\n",
    "response = requests.get(url)\n",
    "\n",
    "# Verificamos si la solicitud fue exitosa\n",
    "if response.status_code == 200:\n",
    "    # Parseamos el contenido HTML de la página\n",
    "    soup = BeautifulSoup(response.text, 'html.parser')\n",
    "    # Encontramos todos los elementos que contienen información de los vehículos\n",
    "    vehiculos = soup.find_all(\"div\",{\"class\":\"card-body\"})  # Cambia la clase según el HTML real\n",
    "    # Extraemos y mostramos el nombre y precio de cada vehículo\n",
    "    for vehiculo in vehiculos:\n",
    "        nombre = vehiculo.find_all(\"span\")\n",
    "        if nombre:\n",
    "            print(f\"Vehículo: {nombre[1].text}\")\n",
    "else:\n",
    "    print(\"Error al acceder a la página:\", response.status_code)\n"
   ]
  }
 ],
 "metadata": {
  "kernelspec": {
   "display_name": "Python 3",
   "language": "python",
   "name": "python3"
  },
  "language_info": {
   "codemirror_mode": {
    "name": "ipython",
    "version": 3
   },
   "file_extension": ".py",
   "mimetype": "text/x-python",
   "name": "python",
   "nbconvert_exporter": "python",
   "pygments_lexer": "ipython3",
   "version": "3.12.6"
  }
 },
 "nbformat": 4,
 "nbformat_minor": 2
}
