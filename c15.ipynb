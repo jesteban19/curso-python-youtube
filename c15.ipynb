{
 "cells": [
  {
   "cell_type": "markdown",
   "metadata": {},
   "source": [
    "## Módulo 5: Programación Orientada a Objetos (POO)"
   ]
  },
  {
   "cell_type": "markdown",
   "metadata": {},
   "source": [
    "### Clase 15: Clases y Objetos\n",
    "Temas:\n",
    "- Conceptos de clases y objetos en Python.\n",
    "- Creación de clases y cómo instanciar objetos.\n",
    "\n",
    "**¿Qué es una Clase?**\n",
    ">Una clase es una plantilla para crear objetos. Define un conjunto de atributos y métodos que caracterizan a cualquier objeto que sea una instancia de la clase.\n",
    "\n",
    "**¿Qué es un Objeto?**\n",
    ">Un objeto es una instancia de una clase. Cada objeto puede tener diferentes valores para sus atributos, pero comparte la estructura definida por la clase."
   ]
  },
  {
   "cell_type": "markdown",
   "metadata": {},
   "source": [
    "#### Ejemplo: Creación de una Clase para un Personaje de GTA V\n",
    ">Vamos a crear una clase llamada Personaje que representará a un personaje del juego. Tendrá atributos como nombre, salud, y dinero."
   ]
  },
  {
   "cell_type": "code",
   "execution_count": 1,
   "metadata": {},
   "outputs": [
    {
     "name": "stdout",
     "output_type": "stream",
     "text": [
      "Nombre: Franklin, Salud: 100, Dinero: $5000\n",
      "Franklin recibió 20 de daño. Salud restante: 80\n",
      "Franklin ganó $1500. Dinero total: $6500\n"
     ]
    }
   ],
   "source": [
    "class Personaje:\n",
    "    def __init__(self, nombre, salud, dinero):\n",
    "        self.nombre = nombre  # Atributo de nombre\n",
    "        self.salud = salud    # Atributo de salud\n",
    "        self.dinero = dinero   # Atributo de dinero\n",
    "        self.edad = 30\n",
    "\n",
    "    def mostrar_info(self):\n",
    "        print(f\"Nombre: {self.nombre}, Salud: {self.salud}, Dinero: ${self.dinero}\")\n",
    "\n",
    "    def recibir_dano(self, cantidad):\n",
    "        self.salud -= cantidad\n",
    "        print(f\"{self.nombre} recibió {cantidad} de daño. Salud restante: {self.salud}\")\n",
    "\n",
    "    def ganar_dinero(self, cantidad):\n",
    "        self.dinero += cantidad\n",
    "        print(f\"{self.nombre} ganó ${cantidad}. Dinero total: ${self.dinero}\")\n",
    "\n",
    "# Creando un objeto de la clase Personaje\n",
    "personaje1 = Personaje(\"Franklin\", 100, 5000)\n",
    "\n",
    "# Mostrando la información del personaje\n",
    "personaje1.mostrar_info()\n",
    "\n",
    "# Simulando daño y ganancia de dinero\n",
    "personaje1.recibir_dano(20)\n",
    "personaje1.ganar_dinero(1500)\n"
   ]
  },
  {
   "cell_type": "code",
   "execution_count": 3,
   "metadata": {},
   "outputs": [
    {
     "name": "stdout",
     "output_type": "stream",
     "text": [
      "Joseph ganó $3000. Dinero total: $4000\n",
      "Joseph recibió 60 de daño. Salud restante: 0\n",
      "Nombre: Joseph, Salud: 0, Dinero: $4000\n"
     ]
    }
   ],
   "source": [
    "personaje2 = Personaje(\"Joseph\",60, 1000)\n",
    "\n",
    "personaje2.ganar_dinero(3000)\n",
    "personaje2.recibir_dano(60)\n",
    "personaje2.mostrar_info()"
   ]
  }
 ],
 "metadata": {
  "kernelspec": {
   "display_name": "Python 3",
   "language": "python",
   "name": "python3"
  },
  "language_info": {
   "codemirror_mode": {
    "name": "ipython",
    "version": 3
   },
   "file_extension": ".py",
   "mimetype": "text/x-python",
   "name": "python",
   "nbconvert_exporter": "python",
   "pygments_lexer": "ipython3",
   "version": "3.12.6"
  }
 },
 "nbformat": 4,
 "nbformat_minor": 2
}
