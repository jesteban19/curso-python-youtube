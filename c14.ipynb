{
 "cells": [
  {
   "cell_type": "markdown",
   "metadata": {},
   "source": [
    "### Clase 14: Manejo de Archivos CSV\n",
    "##### Temas:\n",
    ">Uso del módulo csv para leer y escribir archivos CSV en Python.\n",
    "##### ¿Qué es un archivo CSV?\n",
    ">Un archivo CSV (Comma-Separated Values) es un formato común para almacenar datos tabulares, donde cada línea representa un registro y cada campo dentro de ese registro está separado por comas."
   ]
  },
  {
   "cell_type": "markdown",
   "metadata": {},
   "source": [
    "#### Ejemplo 1: Escritura de un Archivo CSV\n",
    ">Supongamos que quieres guardar información sobre las misiones completadas en GTA V, incluyendo el nombre de la misión, la dificultad y el dinero ganado. Vamos a crear un archivo CSV para almacenar estos datos."
   ]
  },
  {
   "cell_type": "code",
   "execution_count": 2,
   "metadata": {},
   "outputs": [
    {
     "name": "stdout",
     "output_type": "stream",
     "text": [
      "Datos de misiones guardados en 'misiones_gta.csv'.\n"
     ]
    }
   ],
   "source": [
    "import csv\n",
    "\n",
    "# Datos de las misiones completadas\n",
    "misiones = [\n",
    "    [\"Nombre de Misión\", \"Dificultad\", \"Dinero Ganado\"],\n",
    "    [\"Golpe al Banco\", \"Alta\", 20000],\n",
    "    [\"Robo de Joyas\", \"Media\", 15000],\n",
    "    [\"Asalto a la Tienda\", \"Baja\", 5000]\n",
    "]\n",
    "\n",
    "# Abriendo un archivo CSV en modo escritura\n",
    "with open(\"misiones_gta.csv\", mode=\"w\", newline=\"\") as archivo:\n",
    "    escritor = csv.writer(archivo)\n",
    "    escritor.writerows(misiones)  # Escribe todas las filas en una sola llamada\n",
    "\n",
    "print(\"Datos de misiones guardados en 'misiones_gta.csv'.\")\n"
   ]
  },
  {
   "cell_type": "markdown",
   "metadata": {},
   "source": [
    "#### Ejemplo 2: Lectura de un Archivo CSV\n",
    ">Ahora que hemos creado un archivo CSV, veamos cómo leerlo y mostrar su contenido."
   ]
  },
  {
   "cell_type": "code",
   "execution_count": 3,
   "metadata": {},
   "outputs": [
    {
     "name": "stdout",
     "output_type": "stream",
     "text": [
      "Contenido del archivo CSV:\n",
      "['Nombre de Misión', 'Dificultad', 'Dinero Ganado']\n",
      "['Golpe al Banco', 'Alta', '20000']\n",
      "['Robo de Joyas', 'Media', '15000']\n",
      "['Asalto a la Tienda', 'Baja', '5000']\n"
     ]
    }
   ],
   "source": [
    "import csv\n",
    "\n",
    "# Leyendo el archivo CSV\n",
    "print(\"Contenido del archivo CSV:\")\n",
    "with open(\"misiones_gta.csv\", mode=\"r\") as archivo:\n",
    "    lector = csv.reader(archivo)\n",
    "    for fila in lector:\n",
    "        print(fila)  # Imprime cada fila como una lista\n"
   ]
  },
  {
   "cell_type": "markdown",
   "metadata": {},
   "source": [
    "#### Ejemplo 3: Filtrar Datos de un Archivo CSV\n",
    ">Imagina que deseas ver solo las misiones con una dificultad \"Alta\". Vamos a filtrar los resultados al leer el archivo CSV."
   ]
  },
  {
   "cell_type": "code",
   "execution_count": 4,
   "metadata": {},
   "outputs": [
    {
     "name": "stdout",
     "output_type": "stream",
     "text": [
      "Misiones de alta dificultad:\n",
      "['Golpe al Banco', 'Alta', '20000']\n"
     ]
    }
   ],
   "source": [
    "import csv\n",
    "\n",
    "# Leyendo el archivo CSV y filtrando misiones de alta dificultad\n",
    "print(\"Misiones de alta dificultad:\")\n",
    "with open(\"misiones_gta.csv\", mode=\"r\") as archivo:\n",
    "    lector = csv.reader(archivo)\n",
    "    next(lector)  # Saltamos la primera fila (encabezados)\n",
    "    for fila in lector:\n",
    "        if fila[1] == \"Alta\":  # Comprobamos si la dificultad es \"Alta\"\n",
    "            print(fila)\n"
   ]
  }
 ],
 "metadata": {
  "kernelspec": {
   "display_name": "Python 3",
   "language": "python",
   "name": "python3"
  },
  "language_info": {
   "codemirror_mode": {
    "name": "ipython",
    "version": 3
   },
   "file_extension": ".py",
   "mimetype": "text/x-python",
   "name": "python",
   "nbconvert_exporter": "python",
   "pygments_lexer": "ipython3",
   "version": "3.12.6"
  }
 },
 "nbformat": 4,
 "nbformat_minor": 2
}
