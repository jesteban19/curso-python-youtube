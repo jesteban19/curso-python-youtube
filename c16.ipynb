{
 "cells": [
  {
   "cell_type": "markdown",
   "metadata": {},
   "source": [
    "### Clase 16: Atributos y Métodos\n",
    "Temas:\n",
    " - Atributos de instancia y métodos en clases.\n",
    " - Diferencia entre atributos y métodos.\n",
    "\n",
    "**Atributos de Instancia**\n",
    ">Los atributos son variables que pertenecen a una clase y representan las propiedades de un objeto. En Python, los atributos se definen dentro del método constructor (``__init__``).\n",
    "\n",
    "**Métodos**\n",
    ">Los métodos son funciones definidas dentro de una clase que pueden realizar acciones en los atributos de esa clase. Pueden modificar el estado del objeto o realizar operaciones que involucren esos atributos."
   ]
  },
  {
   "cell_type": "markdown",
   "metadata": {},
   "source": [
    "#### Ejemplo: Creación de una Clase para un Vehículo de GTA V\n",
    ">Vamos a crear una clase llamada ``Vehiculo`` que representa un vehículo del juego. Tendrá atributos como ``nombre``, ``marca``, y ``velocidad máxima``. También tendrá métodos para mostrar información, acelerar y frenar."
   ]
  },
  {
   "cell_type": "code",
   "execution_count": 5,
   "metadata": {},
   "outputs": [
    {
     "name": "stdout",
     "output_type": "stream",
     "text": [
      "Vehículo: Infernus, Marca: Pegassi, Velocidad máxima: 200 km/h, Velocidad actual: 0 km/h\n",
      "Infernus aceleró a 50 km/h.\n",
      "Infernus aceleró a 100 km/h.\n",
      "Infernus aceleró a 150 km/h.\n",
      "Infernus aceleró a 190 km/h.\n",
      "No puedes acelerar más allá de 200 km/h.\n",
      "Infernus se detuvo.\n"
     ]
    }
   ],
   "source": [
    "class Vehiculo:\n",
    "    def __init__(self, nombre, marca, velocidad_maxima):\n",
    "        self.nombre = nombre  # Atributo de nombre\n",
    "        self.marca = marca    # Atributo de marca\n",
    "        self.velocidad_maxima = velocidad_maxima  # Atributo de velocidad máxima\n",
    "        self.velocidad_actual = 0  # Atributo de velocidad actual\n",
    "\n",
    "    def mostrar_info(self):\n",
    "        print(f\"Vehículo: {self.nombre}, Marca: {self.marca}, Velocidad máxima: {self.velocidad_maxima} km/h, Velocidad actual: {self.velocidad_actual} km/h\")\n",
    "\n",
    "    def acelerar(self, incremento):\n",
    "        if self.velocidad_actual + incremento > self.velocidad_maxima:\n",
    "            print(f\"No puedes acelerar más allá de {self.velocidad_maxima} km/h.\")\n",
    "        else:\n",
    "            self.velocidad_actual += incremento\n",
    "            print(f\"{self.nombre} aceleró a {self.velocidad_actual} km/h.\")\n",
    "\n",
    "    def frenar(self):\n",
    "        self.velocidad_actual = 0\n",
    "        print(f\"{self.nombre} se detuvo.\")\n",
    "\n",
    "# Creando un objeto de la clase Vehiculo\n",
    "vehiculo1 = Vehiculo(\"Infernus\", \"Pegassi\", 200)\n",
    "\n",
    "# Mostrando la información del vehículo\n",
    "vehiculo1.mostrar_info()\n",
    "\n",
    "# Simulando aceleración y frenado\n",
    "vehiculo1.acelerar(50)\n",
    "vehiculo1.acelerar(50)  # Este debería mostrar un mensaje de advertencia\n",
    "vehiculo1.acelerar(50)\n",
    "vehiculo1.acelerar(40)\n",
    "vehiculo1.acelerar(50)\n",
    "vehiculo1.frenar()\n"
   ]
  }
 ],
 "metadata": {
  "kernelspec": {
   "display_name": "Python 3",
   "language": "python",
   "name": "python3"
  },
  "language_info": {
   "codemirror_mode": {
    "name": "ipython",
    "version": 3
   },
   "file_extension": ".py",
   "mimetype": "text/x-python",
   "name": "python",
   "nbconvert_exporter": "python",
   "pygments_lexer": "ipython3",
   "version": "3.12.6"
  }
 },
 "nbformat": 4,
 "nbformat_minor": 2
}
