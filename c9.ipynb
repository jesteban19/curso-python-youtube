{
 "cells": [
  {
   "cell_type": "markdown",
   "metadata": {},
   "source": [
    "## Módulo 3: Funciones y Manejo de Errores"
   ]
  },
  {
   "cell_type": "markdown",
   "metadata": {},
   "source": [
    "### Clase 9: Definición de funciones"
   ]
  },
  {
   "cell_type": "markdown",
   "metadata": {},
   "source": [
    "#### Ejemplo 1: Saluda personaje"
   ]
  },
  {
   "cell_type": "code",
   "execution_count": 1,
   "metadata": {},
   "outputs": [
    {
     "name": "stdout",
     "output_type": "stream",
     "text": [
      "Hola, Franklin! Bienvenido a Los Santos.\n",
      "Hola, Michael! Bienvenido a Los Santos.\n"
     ]
    }
   ],
   "source": [
    "# Definición de la función\n",
    "def saludar_personaje(nombre):\n",
    "    print(f\"Hola, {nombre}! Bienvenido a Los Santos.\")\n",
    "\n",
    "# Llamando a la función\n",
    "saludar_personaje(\"Franklin\")\n",
    "saludar_personaje(\"Michael\")\n"
   ]
  },
  {
   "cell_type": "markdown",
   "metadata": {},
   "source": [
    "#### Ejemplo 2: Calcular el daño de un vehiculo"
   ]
  },
  {
   "cell_type": "code",
   "execution_count": 2,
   "metadata": {},
   "outputs": [
    {
     "name": "stdout",
     "output_type": "stream",
     "text": [
      "El daño recibido en la colisión a 30 km/h es: 300 puntos.\n"
     ]
    }
   ],
   "source": [
    "# Definición de la función\n",
    "def calcular_dano(velocidad):\n",
    "    dano = velocidad * 10  # Suponemos que cada unidad de velocidad causa 10 puntos de daño\n",
    "    return dano\n",
    "\n",
    "# Llamando a la función y mostrando el resultado\n",
    "velocidad_colision = 30\n",
    "dano_recibido = calcular_dano(velocidad_colision)\n",
    "print(f\"El daño recibido en la colisión a {velocidad_colision} km/h es: {dano_recibido} puntos.\")\n"
   ]
  },
  {
   "cell_type": "markdown",
   "metadata": {},
   "source": [
    "#### Ejemplo 3: Verificar la Salud de un Personaje"
   ]
  },
  {
   "cell_type": "code",
   "execution_count": 3,
   "metadata": {},
   "outputs": [
    {
     "name": "stdout",
     "output_type": "stream",
     "text": [
      "¡Cuidado! La salud del personaje está baja.\n",
      "La salud del personaje está en buen estado.\n"
     ]
    }
   ],
   "source": [
    "# Definición de la función\n",
    "def verificar_salud(salud_actual, umbral=30):\n",
    "    if salud_actual < umbral:\n",
    "        print(\"¡Cuidado! La salud del personaje está baja.\")\n",
    "    else:\n",
    "        print(\"La salud del personaje está en buen estado.\")\n",
    "\n",
    "# Llamando a la función\n",
    "verificar_salud(25)  # Salud baja\n",
    "verificar_salud(50)  # Salud en buen estado\n"
   ]
  },
  {
   "cell_type": "markdown",
   "metadata": {},
   "source": [
    "#### Ejemplo 4: Calcular Recompensa Total\n"
   ]
  },
  {
   "cell_type": "code",
   "execution_count": 4,
   "metadata": {},
   "outputs": [
    {
     "name": "stdout",
     "output_type": "stream",
     "text": [
      "La recompensa total por misiones completadas es: $38000\n"
     ]
    }
   ],
   "source": [
    "# Definición de la función\n",
    "def calcular_recompensa_total(recompensas):\n",
    "    return sum(recompensas)\n",
    "\n",
    "# Lista de recompensas de las misiones completadas\n",
    "recompensas_misiones = [5000, 15000, 10000, 8000]\n",
    "\n",
    "# Llamando a la función y mostrando el resultado\n",
    "recompensa_total = calcular_recompensa_total(recompensas_misiones)\n",
    "print(f\"La recompensa total por misiones completadas es: ${recompensa_total}\")\n"
   ]
  }
 ],
 "metadata": {
  "kernelspec": {
   "display_name": "Python 3",
   "language": "python",
   "name": "python3"
  },
  "language_info": {
   "codemirror_mode": {
    "name": "ipython",
    "version": 3
   },
   "file_extension": ".py",
   "mimetype": "text/x-python",
   "name": "python",
   "nbconvert_exporter": "python",
   "pygments_lexer": "ipython3",
   "version": "3.12.6"
  }
 },
 "nbformat": 4,
 "nbformat_minor": 2
}
