{
 "cells": [
  {
   "cell_type": "markdown",
   "metadata": {},
   "source": [
    "### Clase 11: Manejo de Errores\n",
    ">Uso de try, except, else, y finally para manejar errores en Python."
   ]
  },
  {
   "cell_type": "markdown",
   "metadata": {},
   "source": [
    "#### Ejemplo 1: Manejar Errores de Conversión\n",
    ">Supongamos que un jugador intenta ingresar su velocidad máxima, y queremos asegurarnos de que el valor ingresado sea un número."
   ]
  },
  {
   "cell_type": "code",
   "execution_count": 2,
   "metadata": {},
   "outputs": [
    {
     "name": "stdout",
     "output_type": "stream",
     "text": [
      "Error: La velocidad no puede ser negativa.. Asegúrate de ingresar un número válido.\n"
     ]
    }
   ],
   "source": [
    "# Definición de la función\n",
    "def ingresar_velocidad():\n",
    "    try:\n",
    "        velocidad = float(input(\"Ingresa la velocidad máxima de tu vehículo (km/h): \"))\n",
    "        if velocidad < 0:\n",
    "            raise ValueError(\"La velocidad no puede ser negativa.\")\n",
    "        print(f\"La velocidad máxima ingresada es: {velocidad} km/h.\")\n",
    "    except ValueError as e:\n",
    "        print(f\"Error: {e}. Asegúrate de ingresar un número válido.\")\n",
    "\n",
    "# Llamando a la función\n",
    "ingresar_velocidad()\n"
   ]
  },
  {
   "cell_type": "markdown",
   "metadata": {},
   "source": [
    "#### Ejemplo 2: Manejar Errores de División\n",
    ">En una misión, supongamos que el jugador intenta calcular su puntaje promedio basado en el dinero ganado y el número de misiones completadas. Debemos asegurarnos de no dividir por cero."
   ]
  },
  {
   "cell_type": "code",
   "execution_count": 4,
   "metadata": {},
   "outputs": [
    {
     "name": "stdout",
     "output_type": "stream",
     "text": [
      "Tu puntaje promedio es: $2500.00.\n"
     ]
    }
   ],
   "source": [
    "# Definición de la función\n",
    "def calcular_puntaje_promedio(dinero_ganado, misiones_completadas):\n",
    "    try:\n",
    "        promedio = dinero_ganado / misiones_completadas\n",
    "    except ZeroDivisionError:\n",
    "        return \"Error: No se puede dividir por cero. Asegúrate de completar al menos una misión.\"\n",
    "    else:\n",
    "        return f\"Tu puntaje promedio es: ${promedio:.2f}.\"\n",
    "\n",
    "# Llamando a la función\n",
    "resultado = calcular_puntaje_promedio(5000, 0)  # Cambia el segundo parámetro para probar diferentes escenarios\n",
    "print(resultado)\n"
   ]
  },
  {
   "cell_type": "markdown",
   "metadata": {},
   "source": [
    "#### Ejemplo 3: Manejo de Archivos\n",
    ">En este ejemplo, intentamos abrir un archivo que contiene la información de las misiones. Debemos manejar el caso en que el archivo no existe."
   ]
  },
  {
   "cell_type": "code",
   "execution_count": 7,
   "metadata": {},
   "outputs": [
    {
     "name": "stdout",
     "output_type": "stream",
     "text": [
      "Error: El archivo 'misiones.txt' no se encontró.\n",
      "Proceso de lectura de archivos finalizado.\n"
     ]
    }
   ],
   "source": [
    "# Definición de la función\n",
    "def leer_info_misiones():\n",
    "    try:\n",
    "        with open(\"misiones.txt\", \"r\") as archivo:\n",
    "            contenido = archivo.read()\n",
    "            print(\"Contenido del archivo de misiones:\")\n",
    "            print(contenido)\n",
    "    except FileNotFoundError:\n",
    "        print(\"Error: El archivo 'misiones.txt' no se encontró.\")\n",
    "    finally:\n",
    "        print(\"Proceso de lectura de archivos finalizado.\")\n",
    "\n",
    "# Llamando a la función\n",
    "leer_info_misiones()\n"
   ]
  }
 ],
 "metadata": {
  "kernelspec": {
   "display_name": "Python 3",
   "language": "python",
   "name": "python3"
  },
  "language_info": {
   "codemirror_mode": {
    "name": "ipython",
    "version": 3
   },
   "file_extension": ".py",
   "mimetype": "text/x-python",
   "name": "python",
   "nbconvert_exporter": "python",
   "pygments_lexer": "ipython3",
   "version": "3.12.6"
  }
 },
 "nbformat": 4,
 "nbformat_minor": 2
}
