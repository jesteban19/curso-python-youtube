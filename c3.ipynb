{
 "cells": [
  {
   "cell_type": "markdown",
   "metadata": {},
   "source": [
    "#### Clase 3: Operadores y Expresiones en GTA V"
   ]
  },
  {
   "cell_type": "code",
   "execution_count": 1,
   "metadata": {},
   "outputs": [],
   "source": [
    "# Datos del personaje\n",
    "# + \n",
    "# -\n",
    "# /\n",
    "# *\n",
    "nombre_personaje = \"Franklin\"\n",
    "vida = 50\n",
    "dinero = 1000"
   ]
  },
  {
   "cell_type": "code",
   "execution_count": 2,
   "metadata": {},
   "outputs": [
    {
     "name": "stdout",
     "output_type": "stream",
     "text": [
      "Franklin compra una hamburguesa por $50 y gana dinero en una misión.\n",
      "Dinero total después de gastos y recompensas: 1150\n"
     ]
    }
   ],
   "source": [
    "\n",
    "# Operadores Aritméticos\n",
    "# Franklin gasta dinero en una hamburguesa y gana dinero en una misión\n",
    "costo_hamburguesa = 50\n",
    "recompensa_mision = 200\n",
    "\n",
    "dinero -= costo_hamburguesa  # Restar el costo de la hamburguesa\n",
    "dinero += recompensa_mision  # Agregar la recompensa de la misión\n",
    "print(f\"{nombre_personaje} compra una hamburguesa por ${costo_hamburguesa} y gana dinero en una misión.\")\n",
    "print(\"Dinero total después de gastos y recompensas:\", dinero)\n"
   ]
  },
  {
   "cell_type": "code",
   "execution_count": 3,
   "metadata": {},
   "outputs": [
    {
     "name": "stdout",
     "output_type": "stream",
     "text": [
      "\n",
      "Franklin recibe 20 de daño y se cura con un botiquín.\n",
      "Vida total después de la pelea y recuperación: 60\n"
     ]
    }
   ],
   "source": [
    "# Franklin recibe daño y gana vida con un botiquín\n",
    "daño_recibido = 20\n",
    "recuperacion_vida = 30\n",
    "\n",
    "vida -= daño_recibido  # Restar daño\n",
    "vida += recuperacion_vida  # Sumar recuperación\n",
    "print(f\"\\n{nombre_personaje} recibe {daño_recibido} de daño y se cura con un botiquín.\")\n",
    "print(\"Vida total después de la pelea y recuperación:\", vida)"
   ]
  },
  {
   "cell_type": "code",
   "execution_count": 4,
   "metadata": {},
   "outputs": [
    {
     "name": "stdout",
     "output_type": "stream",
     "text": [
      "\n",
      "¿Franklin tiene suficiente vida para la misión difícil? True\n"
     ]
    }
   ],
   "source": [
    "\n",
    "# Operadores de Comparación\n",
    "# Franklin revisa si tiene suficiente vida para una misión difícil\n",
    "vida_requerida = 40\n",
    "puede_realizar_mision = vida >= vida_requerida # >,<, >=, <= , == | True o False\n",
    "print(f\"\\n¿{nombre_personaje} tiene suficiente vida para la misión difícil?\", puede_realizar_mision)"
   ]
  },
  {
   "cell_type": "code",
   "execution_count": 5,
   "metadata": {},
   "outputs": [
    {
     "name": "stdout",
     "output_type": "stream",
     "text": [
      "¿Debe escapar? False\n"
     ]
    }
   ],
   "source": [
    "# Operadores Lógicos\n",
    "# Franklin escapa si su vida está baja o su dinero es insuficiente para seguir\n",
    "\n",
    "vida_baja = 20\n",
    "dinero_necesario = 100\n",
    "debe_escapar = vida < vida_baja or dinero < dinero_necesario #False or False\n",
    "print(\"¿Debe escapar?\", debe_escapar)"
   ]
  },
  {
   "cell_type": "markdown",
   "metadata": {},
   "source": [
    "![](https://wikimedia.org/api/rest_v1/media/math/render/svg/683a45b8d12f1ae4360e1be36a23ae819e66840b)"
   ]
  },
  {
   "cell_type": "code",
   "execution_count": 6,
   "metadata": {},
   "outputs": [
    {
     "name": "stdout",
     "output_type": "stream",
     "text": [
      "\n",
      "Franklin recibe una bonificación de $100\n",
      "Dinero total después de la bonificación: 1250\n"
     ]
    }
   ],
   "source": [
    "# Operador de Asignación Combinado\n",
    "# Franklin recibe una bonificación\n",
    "bonificacion = 100\n",
    "dinero += bonificacion\n",
    "print(f\"\\n{nombre_personaje} recibe una bonificación de ${bonificacion}\")\n",
    "print(\"Dinero total después de la bonificación:\", dinero)"
   ]
  }
 ],
 "metadata": {
  "kernelspec": {
   "display_name": "Python 3",
   "language": "python",
   "name": "python3"
  },
  "language_info": {
   "codemirror_mode": {
    "name": "ipython",
    "version": 3
   },
   "file_extension": ".py",
   "mimetype": "text/x-python",
   "name": "python",
   "nbconvert_exporter": "python",
   "pygments_lexer": "ipython3",
   "version": "3.12.6"
  }
 },
 "nbformat": 4,
 "nbformat_minor": 2
}
