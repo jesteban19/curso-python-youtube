{
 "cells": [
  {
   "cell_type": "markdown",
   "metadata": {},
   "source": [
    "### Clase 10:  Parámetros y Retorno"
   ]
  },
  {
   "cell_type": "markdown",
   "metadata": {},
   "source": [
    "#### Ejemplo 1: Calcular el Tiempo de Viaje\n",
    ">Definimos una función que calcula el tiempo que tomará llegar a un destino en función de la distancia y la velocidad del vehículo."
   ]
  },
  {
   "cell_type": "code",
   "execution_count": 3,
   "metadata": {},
   "outputs": [
    {
     "name": "stdout",
     "output_type": "stream",
     "text": [
      "El tiempo necesario para llegar al destino es: 0.40 horas.\n"
     ]
    }
   ],
   "source": [
    "# Definición de la función\n",
    "def calcular_tiempo_viaje(distancia, velocidad):\n",
    "    if velocidad <= 0:\n",
    "        return \"La velocidad debe ser mayor a 0 para calcular el tiempo.\"\n",
    "    tiempo = distancia / velocidad  # Tiempo = Distancia / Velocidad\n",
    "    return tiempo\n",
    "\n",
    "# Llamando a la función y mostrando el resultado\n",
    "distancia_a_destino = 120  # en km\n",
    "velocidad_del_vehiculo = 300  # en km/h\n",
    "tiempo_necesario = calcular_tiempo_viaje(distancia_a_destino, velocidad_del_vehiculo)\n",
    "\n",
    "print(f\"El tiempo necesario para llegar al destino es: {tiempo_necesario:.2f} horas.\")\n"
   ]
  },
  {
   "cell_type": "markdown",
   "metadata": {},
   "source": [
    "#### Ejemplo 2: Calcular el Dinero Ganado en una Misión\n",
    ">Supongamos que tenemos una función que calcula el dinero ganado en una misión, basada en el número de objetivos completados y la recompensa por objetivo."
   ]
  },
  {
   "cell_type": "code",
   "execution_count": 4,
   "metadata": {},
   "outputs": [
    {
     "name": "stdout",
     "output_type": "stream",
     "text": [
      "Dinero ganado en la misión: $10000.\n"
     ]
    }
   ],
   "source": [
    "# Definición de la función\n",
    "def calcular_dinero_ganado(objetivos_completados, recompensa_por_objetivo):\n",
    "    dinero_ganado = objetivos_completados * recompensa_por_objetivo\n",
    "    return dinero_ganado\n",
    "\n",
    "# Llamando a la función y mostrando el resultado\n",
    "objetivos = 5\n",
    "recompensa = 2000  # en dólares\n",
    "total_ganado = calcular_dinero_ganado(objetivos, recompensa)\n",
    "\n",
    "print(f\"Dinero ganado en la misión: ${total_ganado}.\")\n"
   ]
  },
  {
   "cell_type": "markdown",
   "metadata": {},
   "source": [
    "#### Ejemplo 3: Evaluar el Estado de una Misión\n",
    ">Creamos una función que evalúa si una misión ha sido completada, basándose en el porcentaje de objetivos cumplidos."
   ]
  },
  {
   "cell_type": "code",
   "execution_count": 7,
   "metadata": {},
   "outputs": [
    {
     "name": "stdout",
     "output_type": "stream",
     "text": [
      "Estado de la misión: Misión en Progreso..\n"
     ]
    }
   ],
   "source": [
    "# Definición de la función\n",
    "def evaluar_mision(porcentaje_completado):\n",
    "    if porcentaje_completado == 100:\n",
    "        return \"Misión Completada.\"\n",
    "    elif porcentaje_completado >= 50:\n",
    "        return \"Misión en Progreso.\"\n",
    "    else:\n",
    "        return \"Misión No Comenzada.\"\n",
    "\n",
    "# Llamando a la función y mostrando el resultado\n",
    "estado_mision = evaluar_mision(70)\n",
    "print(f\"Estado de la misión: {estado_mision}.\")\n"
   ]
  },
  {
   "cell_type": "markdown",
   "metadata": {},
   "source": [
    "#### Ejemplo 4: Obtener Información de un Vehículo\n",
    "> Definimos una función que devuelve información detallada de un vehículo dado su marca y modelo.\n",
    "\n"
   ]
  },
  {
   "cell_type": "code",
   "execution_count": 8,
   "metadata": {},
   "outputs": [
    {
     "name": "stdout",
     "output_type": "stream",
     "text": [
      "Vehículo: Audi R8 - Ideal para recorrer Los Santos.\n"
     ]
    }
   ],
   "source": [
    "# Definición de la función\n",
    "def obtener_info_vehiculo(marca, modelo):\n",
    "    return f\"Vehículo: {marca} {modelo} - Ideal para recorrer Los Santos.\"\n",
    "\n",
    "# Llamando a la función y mostrando el resultado\n",
    "info_vehiculo = obtener_info_vehiculo(\"Audi\", \"R8\")\n",
    "print(info_vehiculo)\n"
   ]
  }
 ],
 "metadata": {
  "kernelspec": {
   "display_name": "Python 3",
   "language": "python",
   "name": "python3"
  },
  "language_info": {
   "codemirror_mode": {
    "name": "ipython",
    "version": 3
   },
   "file_extension": ".py",
   "mimetype": "text/x-python",
   "name": "python",
   "nbconvert_exporter": "python",
   "pygments_lexer": "ipython3",
   "version": "3.12.6"
  }
 },
 "nbformat": 4,
 "nbformat_minor": 2
}
