{
 "cells": [
  {
   "cell_type": "markdown",
   "metadata": {},
   "source": [
    "### Clase 18: Encapsulamiento y Métodos Especiales\n",
    "Temas:\n",
    " - Concepto de encapsulamiento en programación orientada a objetos.\n",
    " - Uso de métodos especiales (__init__, __str__, __repr__, __getitem__, etc.).\n",
    "\n",
    "**Encapsulamiento**\n",
    ">El encapsulamiento es un principio de la programación orientada a objetos que restringe el acceso a ciertos componentes de un objeto, protegiendo el estado interno del objeto y evitando modificaciones no autorizadas. Se utiliza principalmente para ocultar atributos y métodos privados, proporcionando un interfaz controlado.\n",
    "\n",
    "**Métodos Especiales**\n",
    ">Los métodos especiales son funciones predefinidas en Python que permiten personalizar el comportamiento de las clases. Algunos de los más comunes son:\n",
    "\n",
    " - ``__init__``: Inicializador de la clase (constructor).\n",
    " - ``__str__``: Devuelve una representación en cadena del objeto (para uso general).\n",
    " - ``__repr__``: Devuelve una representación oficial del objeto (para debugging).\n",
    " - ``__getitem__``: Permite acceder a elementos como si el objeto fuera una lista o un diccionario."
   ]
  },
  {
   "cell_type": "markdown",
   "metadata": {},
   "source": [
    "#### Ejemplo: Clase ``CuentaBancaria`` con Encapsulamiento\n",
    ">Vamos a crear una clase CuentaBancaria que encapsula el saldo y permite realizar operaciones de depósito y retiro, mientras oculta el saldo de accesos directos."
   ]
  },
  {
   "cell_type": "code",
   "execution_count": 3,
   "metadata": {},
   "outputs": [
    {
     "name": "stdout",
     "output_type": "stream",
     "text": [
      "Se han depositado 500 a la cuenta de Michael De Santa.\n",
      "Cuenta de Michael De Santa: Saldo actual es 1500.\n",
      "Se han retirado 200 de la cuenta de Michael De Santa.\n",
      "1300\n"
     ]
    }
   ],
   "source": [
    "class CuentaBancaria:\n",
    "    def __init__(self, titular, saldo_inicial):\n",
    "        self.titular = titular\n",
    "        self.__saldo = saldo_inicial  # Atributo privado\n",
    "\n",
    "    def depositar(self, cantidad):\n",
    "        if cantidad > 0:\n",
    "            self.__saldo += cantidad\n",
    "            print(f\"Se han depositado {cantidad} a la cuenta de {self.titular}.\")\n",
    "        else:\n",
    "            print(\"La cantidad a depositar debe ser positiva.\")\n",
    "\n",
    "    def retirar(self, cantidad):\n",
    "        if 0 < cantidad <= self.__saldo:\n",
    "            self.__saldo -= cantidad\n",
    "            print(f\"Se han retirado {cantidad} de la cuenta de {self.titular}.\")\n",
    "        else:\n",
    "            print(\"Retiro inválido. Verifica la cantidad.\")\n",
    "\n",
    "    def ver_saldo(self):\n",
    "        return self.__saldo  # Método para acceder al saldo\n",
    "\n",
    "    def __str__(self):\n",
    "        return f\"Cuenta de {self.titular}: Saldo actual es {self.__saldo}.\"\n",
    "\n",
    "# Creando un objeto de la clase CuentaBancaria\n",
    "cuenta1 = CuentaBancaria(\"Michael De Santa\", 1000)\n",
    "\n",
    "# Realizando operaciones\n",
    "cuenta1.depositar(500)\n",
    "print(cuenta1)  # Usando el método __str__\n",
    "cuenta1.retirar(200)\n",
    "print(cuenta1.ver_saldo())  # Accediendo al saldo de forma controlada\n"
   ]
  },
  {
   "cell_type": "markdown",
   "metadata": {},
   "source": [
    "### ¿Que hacer despues de este curso...?\n",
    "\n",
    "**Recomendaciones :**\n",
    " - Logica de programación\n",
    " - Realizar aplicaciones sencillas\n",
    " - Practicar y seguir practicando..."
   ]
  }
 ],
 "metadata": {
  "kernelspec": {
   "display_name": "Python 3",
   "language": "python",
   "name": "python3"
  },
  "language_info": {
   "codemirror_mode": {
    "name": "ipython",
    "version": 3
   },
   "file_extension": ".py",
   "mimetype": "text/x-python",
   "name": "python",
   "nbconvert_exporter": "python",
   "pygments_lexer": "ipython3",
   "version": "3.12.6"
  }
 },
 "nbformat": 4,
 "nbformat_minor": 2
}
