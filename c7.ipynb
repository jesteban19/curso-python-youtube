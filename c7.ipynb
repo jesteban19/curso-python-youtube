{
 "cells": [
  {
   "cell_type": "markdown",
   "metadata": {},
   "source": [
    "### Clase 7: Manipulación de Estructuras de Datos en GTA V"
   ]
  },
  {
   "cell_type": "markdown",
   "metadata": {},
   "source": [
    "#### Ejemplo con Listas: Lista de Misiones\n",
    ">En este ejemplo, manipulamos una lista de misiones que Franklin tiene que completar. Vamos a añadir, remover y ordenar las misiones."
   ]
  },
  {
   "cell_type": "code",
   "execution_count": 1,
   "metadata": {},
   "outputs": [
    {
     "name": "stdout",
     "output_type": "stream",
     "text": [
      "Misiones actualizadas: ['Robo de bancos', 'Carrera callejera', 'Secuestro', 'Atraco', 'Asesinato a sueldo']\n",
      "Misiones tras eliminar una: ['Robo de bancos', 'Carrera callejera', 'Atraco', 'Asesinato a sueldo']\n",
      "Misiones ordenadas: ['Asesinato a sueldo', 'Atraco', 'Carrera callejera', 'Robo de bancos']\n",
      "Misiones en orden inverso: ['Robo de bancos', 'Carrera callejera', 'Atraco', 'Asesinato a sueldo']\n"
     ]
    }
   ],
   "source": [
    "# Lista de misiones de Franklin\n",
    "misiones = [\"Robo de bancos\", \"Carrera callejera\", \"Secuestro\", \"Atraco\"]\n",
    "\n",
    "# Agregar una nueva misión\n",
    "misiones.append(\"Asesinato a sueldo\")\n",
    "print(\"Misiones actualizadas:\", misiones)\n",
    "\n",
    "# Quitar una misión\n",
    "misiones.remove(\"Secuestro\")\n",
    "print(\"Misiones tras eliminar una:\", misiones)\n",
    "\n",
    "# Ordenar las misiones alfabéticamente\n",
    "misiones.sort()\n",
    "print(\"Misiones ordenadas:\", misiones)\n",
    "\n",
    "# Invertir el orden de la lista\n",
    "misiones.reverse()\n",
    "print(\"Misiones en orden inverso:\", misiones)\n"
   ]
  },
  {
   "cell_type": "markdown",
   "metadata": {},
   "source": [
    "#### Ejemplo con Tuplas: Información de Armas\n",
    ">Las tuplas son útiles para almacenar datos que no cambian. En este caso, mostramos los tipos de armas que Trevor lleva consigo. Las tuplas son inmutables, por lo que no se pueden modificar después de crearlas."
   ]
  },
  {
   "cell_type": "code",
   "execution_count": 4,
   "metadata": {},
   "outputs": [
    {
     "name": "stdout",
     "output_type": "stream",
     "text": [
      "Armas de Trevor: ('Pistola', 'Rifle de francotirador', 'Lanzacohetes')\n"
     ]
    }
   ],
   "source": [
    "# Tupla de armas de Trevor\n",
    "armas_trevor = (\"Pistola\", \"Rifle de francotirador\", \"Lanzacohetes\")\n",
    "\n",
    "# Mostrar las armas de Trevor\n",
    "print(\"Armas de Trevor:\", armas_trevor)\n",
    "\n",
    "# Intentar agregar una nueva arma (esto generará un error)\n",
    "# armas_trevor.append(\"Cuchillo\")  # Esto no es posible porque las tuplas son inmutables\n"
   ]
  },
  {
   "cell_type": "markdown",
   "metadata": {},
   "source": [
    "#### Ejemplo con Diccionarios: Actualización de Detalles de Personajes\n",
    ">Usamos métodos de diccionario para manipular la información de los personajes.\n",
    "\n"
   ]
  },
  {
   "cell_type": "code",
   "execution_count": 5,
   "metadata": {},
   "outputs": [
    {
     "name": "stdout",
     "output_type": "stream",
     "text": [
      "\n",
      "Información de Franklin actualizada: {'edad': 25, 'profesion': 'Empresario'}\n",
      "Nuevo personaje agregado: {'edad': 26, 'profesion': 'Amigo de Franklin'}\n",
      "Personajes tras eliminar a Michael: {'Franklin': {'edad': 25, 'profesion': 'Empresario'}, 'Trevor': {'edad': 40, 'profesion': 'Mercenario'}, 'Lamar': {'edad': 26, 'profesion': 'Amigo de Franklin'}}\n"
     ]
    }
   ],
   "source": [
    "# Diccionario con información de los personajes\n",
    "personajes = {\n",
    "    \"Franklin\": {\"edad\": 25, \"profesion\": \"Piloto\"},\n",
    "    \"Michael\": {\"edad\": 45, \"profesion\": \"Ex-ladrón\"},\n",
    "    \"Trevor\": {\"edad\": 40, \"profesion\": \"Mercenario\"}\n",
    "}\n",
    "\n",
    "# Actualizar la profesión de Franklin\n",
    "personajes[\"Franklin\"][\"profesion\"] = \"Empresario\"\n",
    "print(\"\\nInformación de Franklin actualizada:\", personajes[\"Franklin\"])\n",
    "\n",
    "# Agregar un nuevo personaje\n",
    "personajes[\"Lamar\"] = {\"edad\": 26, \"profesion\": \"Amigo de Franklin\"}\n",
    "print(\"Nuevo personaje agregado:\", personajes[\"Lamar\"])\n",
    "\n",
    "# Eliminar un personaje\n",
    "del personajes[\"Michael\"]\n",
    "print(\"Personajes tras eliminar a Michael:\", personajes)\n"
   ]
  },
  {
   "cell_type": "markdown",
   "metadata": {},
   "source": [
    "#### Ejemplo con Conjuntos: Vehículos Especiales\n",
    "> Usamos métodos de conjuntos para administrar los vehículos especiales que Franklin ha usado en misiones.\n",
    "\n"
   ]
  },
  {
   "cell_type": "code",
   "execution_count": 6,
   "metadata": {},
   "outputs": [
    {
     "name": "stdout",
     "output_type": "stream",
     "text": [
      "Vehículos especiales actualizados: {'Dune Buggy', 'Buffalo S', 'Dominator', 'Super Diamond'}\n",
      "Vehículos especiales tras eliminar uno: {'Buffalo S', 'Dominator', 'Super Diamond'}\n",
      "Lista completa de vehículos disponibles: {'Buffalo S', 'Infernus', 'Sultan', 'Dominator', 'Super Diamond'}\n"
     ]
    }
   ],
   "source": [
    "# Conjunto de vehículos especiales\n",
    "vehiculos_especiales = {\"Buffalo S\", \"Dune Buggy\", \"Super Diamond\"}\n",
    "\n",
    "# Añadir un vehículo especial\n",
    "vehiculos_especiales.add(\"Dominator\")\n",
    "print(\"Vehículos especiales actualizados:\", vehiculos_especiales)\n",
    "\n",
    "# Eliminar un vehículo que ya no está disponible\n",
    "vehiculos_especiales.discard(\"Dune Buggy\")\n",
    "print(\"Vehículos especiales tras eliminar uno:\", vehiculos_especiales)\n",
    "\n",
    "# Operación de unión con otro conjunto de vehículos\n",
    "vehiculos_extras = {\"Sultan\", \"Infernus\", \"Dominator\"}\n",
    "vehiculos_completos = vehiculos_especiales.union(vehiculos_extras)\n",
    "print(\"Lista completa de vehículos disponibles:\", vehiculos_completos)\n"
   ]
  }
 ],
 "metadata": {
  "kernelspec": {
   "display_name": "Python 3",
   "language": "python",
   "name": "python3"
  },
  "language_info": {
   "codemirror_mode": {
    "name": "ipython",
    "version": 3
   },
   "file_extension": ".py",
   "mimetype": "text/x-python",
   "name": "python",
   "nbconvert_exporter": "python",
   "pygments_lexer": "ipython3",
   "version": "3.12.6"
  }
 },
 "nbformat": 4,
 "nbformat_minor": 2
}
