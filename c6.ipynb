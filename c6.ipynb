{
 "cells": [
  {
   "cell_type": "markdown",
   "metadata": {},
   "source": [
    "### Clase 6: Diccionarios y Conjuntos en GTA V"
   ]
  },
  {
   "cell_type": "markdown",
   "metadata": {},
   "source": [
    "#### Diccionarios\n",
    "> Cada personaje se representa con un diccionario dentro de un diccionario principal llamado personajes, donde la clave es el nombre del personaje."
   ]
  },
  {
   "cell_type": "code",
   "execution_count": 1,
   "metadata": {},
   "outputs": [
    {
     "name": "stdout",
     "output_type": "stream",
     "text": [
      "\n",
      "Información de Franklin:\n",
      "Edad: 25\n",
      "Profesion: Piloto\n",
      "Vehiculo: Buffalo S\n",
      "\n",
      "Información de Michael:\n",
      "Edad: 45\n",
      "Profesion: Ex-ladrón\n",
      "Vehiculo: Obey Tailgater\n",
      "\n",
      "Información de Trevor:\n",
      "Edad: 40\n",
      "Profesion: Mercenario\n",
      "Vehiculo: Bodhi\n",
      "\n",
      "Vehículo de Michael: Obey Tailgater\n",
      "\n",
      "Información actualizada de personajes: {'Franklin': {'edad': 25, 'profesion': 'Piloto', 'vehiculo': 'Buffalo S'}, 'Michael': {'edad': 45, 'profesion': 'Ex-ladrón', 'vehiculo': 'Obey Tailgater'}, 'Trevor': {'edad': 40, 'profesion': 'Mercenario', 'vehiculo': 'Bodhi'}, 'Lester': {'edad': 48, 'profesion': 'Estratega', 'vehiculo': 'Bicicleta'}}\n"
     ]
    }
   ],
   "source": [
    "# Diccionario que contiene información sobre personajes principales\n",
    "personajes = {\n",
    "    \"Franklin\": {\n",
    "        \"edad\": 25,\n",
    "        \"profesion\": \"Piloto\",\n",
    "        \"vehiculo\": \"Buffalo S\"\n",
    "    },\n",
    "    \"Michael\": {\n",
    "        \"edad\": 45,\n",
    "        \"profesion\": \"Ex-ladrón\",\n",
    "        \"vehiculo\": \"Obey Tailgater\"\n",
    "    },\n",
    "    \"Trevor\": {\n",
    "        \"edad\": 40,\n",
    "        \"profesion\": \"Mercenario\",\n",
    "        \"vehiculo\": \"Bodhi\"\n",
    "    }\n",
    "}\n",
    "\n",
    "# Mostrar la información de cada personaje\n",
    "for nombre, info in personajes.items():\n",
    "    print(f\"\\nInformación de {nombre}:\")\n",
    "    for clave, valor in info.items():\n",
    "        print(f\"{clave.capitalize()}: {valor}\")\n",
    "\n",
    "# Acceder a la información de un personaje específico\n",
    "print(\"\\nVehículo de Michael:\", personajes[\"Michael\"][\"vehiculo\"])\n",
    "\n",
    "\n",
    "# Agregar un nuevo personaje al diccionario\n",
    "personajes[\"Lester\"] = {\n",
    "    \"edad\": 48,\n",
    "    \"profesion\": \"Estratega\",\n",
    "    \"vehiculo\": \"Bicicleta\"\n",
    "}\n",
    "print(\"\\nInformación actualizada de personajes:\", personajes)\n"
   ]
  },
  {
   "cell_type": "markdown",
   "metadata": {},
   "source": [
    "```json\n",
    "{\n",
    "\"Franklin\": {\"edad\": 25, \"profesion\": \"Piloto\", \"vehiculo\": \"Buffalo S\"},\n",
    "\"Michael\": {\"edad\": 45, \"profesion\": \"Ex-ladrón\", \"vehiculo\": \"Obey Tailgater\"},\n",
    "\"Trevor\": {\"edad\": 40, \"profesion\": \"Mercenario\", \"vehiculo\": \"Bodhi\"},\n",
    "\"Lester\": {\"edad\": 48, \"profesion\": \"Estratega\", \"vehiculo\": \"Bicicleta\"}\n",
    "}\n",
    "```"
   ]
  },
  {
   "cell_type": "markdown",
   "metadata": {},
   "source": [
    "#### Conjuntos\n",
    "> Usamos un conjunto para almacenar los vehículos que Franklin ha utilizado. Los conjuntos no permiten elementos duplicados, lo que es útil cuando queremos evitar entradas repetidas."
   ]
  },
  {
   "cell_type": "code",
   "execution_count": 2,
   "metadata": {},
   "outputs": [
    {
     "name": "stdout",
     "output_type": "stream",
     "text": [
      "\n",
      "Vehículos usados por Franklin: {'Bagger', 'Hexer', 'Buffalo S'}\n",
      "Franklin usa un nuevo vehículo: Sultan. Vehículos actualizados: {'Bagger', 'Hexer', 'Buffalo S', 'Sultan'}\n",
      "Franklin vuelve a usar la Bagger. Vehículos actualizados: {'Bagger', 'Hexer', 'Buffalo S', 'Sultan'}\n",
      "Franklin deja de usar la Hexer. Vehículos actualizados: {'Bagger', 'Buffalo S', 'Sultan'}\n"
     ]
    }
   ],
   "source": [
    "# Conjunto de vehículos que Franklin ha utilizado\n",
    "vehiculos_usados = {\"Buffalo S\", \"Bagger\", \"Hexer\"}\n",
    "\n",
    "# Mostrar los vehículos que Franklin ha usado\n",
    "print(\"\\nVehículos usados por Franklin:\", vehiculos_usados)\n",
    "\n",
    "# Agregar un nuevo vehículo\n",
    "vehiculos_usados.add(\"Sultan\")\n",
    "print(\"Franklin usa un nuevo vehículo: Sultan. Vehículos actualizados:\", vehiculos_usados)\n",
    "\n",
    "# Intentar agregar un vehículo ya existente\n",
    "vehiculos_usados.add(\"Bagger\")\n",
    "print(\"Franklin vuelve a usar la Bagger. Vehículos actualizados:\", vehiculos_usados)\n",
    "\n",
    "# Remover un vehículo del conjunto\n",
    "vehiculos_usados.remove(\"Hexer\")\n",
    "print(\"Franklin deja de usar la Hexer. Vehículos actualizados:\", vehiculos_usados)\n"
   ]
  }
 ],
 "metadata": {
  "kernelspec": {
   "display_name": "Python 3",
   "language": "python",
   "name": "python3"
  },
  "language_info": {
   "codemirror_mode": {
    "name": "ipython",
    "version": 3
   },
   "file_extension": ".py",
   "mimetype": "text/x-python",
   "name": "python",
   "nbconvert_exporter": "python",
   "pygments_lexer": "ipython3",
   "version": "3.12.6"
  }
 },
 "nbformat": 4,
 "nbformat_minor": 2
}
