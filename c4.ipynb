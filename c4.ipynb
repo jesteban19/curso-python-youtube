{
 "cells": [
  {
   "cell_type": "markdown",
   "metadata": {},
   "source": [
    "### Clase 4: Estructuras de Control en GTA V"
   ]
  },
  {
   "cell_type": "code",
   "execution_count": 1,
   "metadata": {},
   "outputs": [],
   "source": [
    "# Datos del personaje\n",
    "nombre_personaje = \"Franklin\"\n",
    "vida = 50\n",
    "dinero = 500"
   ]
  },
  {
   "cell_type": "markdown",
   "metadata": {},
   "source": [
    "#### Control IF ELSE"
   ]
  },
  {
   "cell_type": "code",
   "execution_count": 3,
   "metadata": {},
   "outputs": [
    {
     "name": "stdout",
     "output_type": "stream",
     "text": [
      "Franklin no tiene suficiente dinero para comprar el arma. Dinero disponible: $200.\n"
     ]
    }
   ],
   "source": [
    "# Estructuras de Control: Condicionales\n",
    "# Franklin decide si debe comprar un arma o ahorrar su dinero\n",
    "precio_arma = 300\n",
    "\n",
    "if dinero >= precio_arma: # True\n",
    "    dinero -= precio_arma\n",
    "    print(f\"{nombre_personaje} compró un arma por ${precio_arma}. Dinero restante: ${dinero}.\")\n",
    "else:\n",
    "    print(f\"{nombre_personaje} no tiene suficiente dinero para comprar el arma. Dinero disponible: ${dinero}.\")\n"
   ]
  },
  {
   "cell_type": "code",
   "execution_count": 5,
   "metadata": {},
   "outputs": [
    {
     "name": "stdout",
     "output_type": "stream",
     "text": [
      "Franklin compró un botiquín y se recuperó. Vida actual: 70, Dinero restante: $150.\n"
     ]
    }
   ],
   "source": [
    "# Otro ejemplo de decisión: si Franklin tiene poca vida, buscará un botiquín.\n",
    "vida_minima = 60\n",
    "precio_botiquin = 50\n",
    "\n",
    "if vida < vida_minima and dinero >= precio_botiquin:\n",
    "    dinero -= precio_botiquin\n",
    "    vida += 20  # Se recupera 20 de vida\n",
    "    print(f\"{nombre_personaje} compró un botiquín y se recuperó. Vida actual: {vida}, Dinero restante: ${dinero}.\")\n",
    "elif vida < vida_minima:\n",
    "    print(f\"{nombre_personaje} necesita un botiquín pero no tiene suficiente dinero.\")\n",
    "else:\n",
    "    print(f\"{nombre_personaje} tiene suficiente vida y dinero, listo para la acción.\")\n"
   ]
  },
  {
   "cell_type": "markdown",
   "metadata": {},
   "source": [
    "#### Control: Bucles"
   ]
  },
  {
   "cell_type": "code",
   "execution_count": 6,
   "metadata": {},
   "outputs": [
    {
     "name": "stdout",
     "output_type": "stream",
     "text": [
      "\n",
      "Entrenamiento de resistencia:\n",
      "Franklin corre la vuelta 1. Resistencia mejorando...\n",
      "Franklin corre la vuelta 2. Resistencia mejorando...\n",
      "Franklin corre la vuelta 3. Resistencia mejorando...\n",
      "Franklin corre la vuelta 4. Resistencia mejorando...\n",
      "Franklin corre la vuelta 5. Resistencia mejorando...\n"
     ]
    }
   ],
   "source": [
    "print(\"\\nEntrenamiento de resistencia:\")\n",
    "\n",
    "# Ejemplo de bucle `for`: Franklin correrá 5 vueltas.\n",
    "for vuelta in range(1, 6):\n",
    "    print(f\"Franklin corre la vuelta {vuelta}. Resistencia mejorando...\")"
   ]
  },
  {
   "cell_type": "code",
   "execution_count": 7,
   "metadata": {},
   "outputs": [
    {
     "name": "stdout",
     "output_type": "stream",
     "text": [
      "\n",
      "Trabajos para ganar dinero:\n",
      "Trabajo completado. Dinero actual: $250.\n",
      "Trabajo completado. Dinero actual: $350.\n",
      "Trabajo completado. Dinero actual: $450.\n",
      "Trabajo completado. Dinero actual: $550.\n",
      "Trabajo completado. Dinero actual: $650.\n",
      "Trabajo completado. Dinero actual: $750.\n",
      "Trabajo completado. Dinero actual: $850.\n",
      "Trabajo completado. Dinero actual: $950.\n",
      "Trabajo completado. Dinero actual: $1050.\n",
      "\n",
      "Franklin completó 9 trabajos y ahora tiene $1050, suficiente para su misión.\n"
     ]
    }
   ],
   "source": [
    "# Ejemplo de bucle `while`: Franklin gana dinero mientras completa trabajos.\n",
    "trabajos_realizados = 0\n",
    "dinero_necesario = 1000\n",
    "print(\"\\nTrabajos para ganar dinero:\")\n",
    "\n",
    "while dinero < dinero_necesario:\n",
    "    dinero += 100  # Cada trabajo le da $100\n",
    "    trabajos_realizados += 1\n",
    "    print(f\"Trabajo completado. Dinero actual: ${dinero}.\")    \n",
    "\n",
    "print(f\"\\n{nombre_personaje} completó {trabajos_realizados} trabajos y ahora tiene ${dinero}, suficiente para su misión.\")\n"
   ]
  }
 ],
 "metadata": {
  "kernelspec": {
   "display_name": "Python 3",
   "language": "python",
   "name": "python3"
  },
  "language_info": {
   "codemirror_mode": {
    "name": "ipython",
    "version": 3
   },
   "file_extension": ".py",
   "mimetype": "text/x-python",
   "name": "python",
   "nbconvert_exporter": "python",
   "pygments_lexer": "ipython3",
   "version": "3.12.6"
  }
 },
 "nbformat": 4,
 "nbformat_minor": 2
}
